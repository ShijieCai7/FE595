{
 "cells": [
  {
   "cell_type": "code",
   "execution_count": 12,
   "metadata": {},
   "outputs": [],
   "source": [
    "import requests\n",
    "from bs4 import BeautifulSoup"
   ]
  },
  {
   "cell_type": "code",
   "execution_count": 13,
   "metadata": {},
   "outputs": [],
   "source": [
    "def craw(male, female):\n",
    "    url = \"https://theyfightcrime.org/\"\n",
    "    response = requests.get(url)\n",
    "    content = response.text\n",
    "    soup = BeautifulSoup(content, \"html.parser\")\n",
    "    table = soup.find(\"table\")\n",
    "    p = table.find(\"p\")\n",
    "    text = p.string\n",
    "    print(text)\n",
    "    tokens = text.split(\".\")\n",
    "    male.write(tokens[0]+\"\\n\")\n",
    "    female.write(tokens[1] + \"\\n\")"
   ]
  },
  {
   "cell_type": "code",
   "execution_count": 14,
   "metadata": {},
   "outputs": [],
   "source": [
    "def main():\n",
    "    male = open(\"male.txt\", \"w\")\n",
    "    female = open(\"female.txt\", \"w\")\n",
    "    for i in range(50):\n",
    "        craw(male, female)\n",
    "    male.close()\n",
    "    female.close()"
   ]
  },
  {
   "cell_type": "code",
   "execution_count": 15,
   "metadata": {
    "scrolled": true
   },
   "outputs": [
    {
     "name": "stdout",
     "output_type": "stream",
     "text": [
      "He's a suicidal ninja master criminal moving from town to town, helping folk in trouble. She's a manipulative out-of-work barmaid from Mars. They fight crime!\n",
      "He's a maverick crooked ex-con possessed of the uncanny powers of an insect. She's a sharp-shooting goth doctor fleeing from a Satanic cult. They fight crime!\n",
      "He's an impetuous arachnophobic househusband who believes he can never love again. She's a hard-bitten paranoid opera singer who don't take no shit from nobody. They fight crime!\n",
      "He's a fast talking flyboy master criminal on the edge. She's an enchanted punk mechanic on her way to prison for a murder she didn't commit. They fight crime!\n",
      "He's an underprivileged playboy grifter living undercover at Ringling Bros. Circus. She's a provocative insomniac detective trying to make a difference in a man's world. They fight crime!\n",
      "He's a bookish crooked hairdresser from the 'hood. She's a scantily clad winged detective with an incredible destiny. They fight crime!\n",
      "He's an immortal Catholic farmboy with a secret. She's a warm-hearted antique-collecting Valkyrie with someone else's memories. They fight crime!\n",
      "He's a one-legged bohemian househusband on the edge. She's a green-fingered junkie doctor from the wrong side of the tracks. They fight crime!\n",
      "He's an old-fashioned Republican senator from the Mississippi delta. She's a strong-willed out-of-work opera singer in the witness protection scheme. They fight crime!\n",
      "He's a genetically engineered amnesiac hairdresser in drag. She's a sarcastic insomniac snake charmer with a birthmark shaped like Liberty's torch. They fight crime!\n",
      "He's an all-American hunchbacked ex-con on a mission from God. She's a brilliant antique-collecting fairy princess with the power to bend men's minds. They fight crime!\n",
      "He's a globe-trotting Republican vampire hunter with nothing left to lose. She's a green-fingered green-skinned magician's assistant with the soul of a mighty warrior. They fight crime!\n",
      "He's a fast talking playboy master criminal who dotes on his loving old ma. She's a sarcastic French-Canadian traffic cop with the power to bend men's minds. They fight crime!\n",
      "He's a gun-slinging native American filmmaker with acid for blood. She's a vivacious winged nun on the trail of a serial killer. They fight crime!\n",
      "He's a short-sighted albino gentleman spy possessed of the uncanny powers of an insect. She's a brilliant extravagent former first lady with a song in her heart and a spring in her step. They fight crime!\n",
      "He's a deeply religious amnesiac boxer who hides his scarred face behind a mask. She's a time-travelling winged traffic cop with a birthmark shaped like Liberty's torch. They fight crime!\n",
      "He's a superhumanly strong skateboarding rock star moving from town to town, helping folk in trouble. She's a strong-willed paranoid mermaid married to the Mob. They fight crime!\n",
      "He's an otherworldly ninja firefighter who hides his scarred face behind a mask. She's an elegant communist Hell's Angel from a different time and place. They fight crime!\n",
      "He's a maverick guerilla cat burglar on a search for his missing sister. She's a warm-hearted hip-hop advertising executive who inherited a spooky stately manor from her late maiden aunt. They fight crime!\n",
      "He's a fiendish Jewish Green Beret on a mission from God. She's a transdimensional green-skinned soap star who inherited a spooky stately manor from her late maiden aunt. They fight crime!\n",
      "He's a fast talking Jewish stage actor with a passion for fast cars. She's a radical French-Canadian pearl diver with a song in her heart and a spring in her step. They fight crime!\n",
      "He's a benighted guitar-strumming sorceror on the edge. She's a pregnant wisecracking soap star who dreams of becoming Elvis. They fight crime!\n",
      "He's a shy moralistic dog-catcher who believes he can never love again. She's a cynical wisecracking wrestler from a secret island of warrior women. They fight crime!\n",
      "He's a globe-trotting bohemian Green Beret from the Mississippi delta. She's a provocative African-American fairy princess from a family of eight older brothers. They fight crime!\n",
      "He's a notorious flyboy cyborg who believes he can never love again. She's a mentally unstable out-of-work pearl diver descended from a line of powerful witches. They fight crime!\n",
      "He's a suicidal guitar-strumming waffle chef haunted by memories of 'Nam. She's a high-kicking mute detective living homeless in New York's sewers. They fight crime!\n",
      "He's a world-famous Catholic vampire hunter who hides his scarred face behind a mask. She's a pregnant Buddhist mercenary with an evil twin sister. They fight crime!\n",
      "He's a scrappy devious vampire hunter haunted by memories of 'Nam. She's a high-kicking impetuous archaeologist with only herself to blame. They fight crime!\n",
      "He's a scarfaced pirate paranormal investigator from a doomed world. She's a time-travelling extravagent advertising executive who believes she is the reincarnation of an ancient Egyptian queen. They fight crime!\n",
      "He's a deeply religious Jewish cyborg haunted by an iconic dead American confidante She's a plucky red-headed single mother married to the Mob. They fight crime!\n",
      "He's an underprivileged amnesiac cyborg from the 'hood. She's a strong-willed insomniac soap star with an MBA from Harvard. They fight crime!\n",
      "He's a lonely flyboy boxer looking for 'the Big One.' She's an enchanted nymphomaniac journalist descended from a line of powerful witches. They fight crime!\n",
      "He's a globe-trotting Amish househusband haunted by an iconic dead American confidante She's an orphaned nymphomaniac schoolgirl trying to make a difference in a man's world. They fight crime!\n",
      "He's an unconventional sweet-toothed photographer with no name. She's a time-travelling French-Canadian bounty hunter operating on the wrong side of the law. They fight crime!\n",
      "He's a globe-trotting neurotic gangster from the Mississippi delta. She's a radical gypsy nun on her way to prison for a murder she didn't commit. They fight crime!\n",
      "He's a globe-trotting one-eyed filmmaker looking for 'the Big One.' She's a plucky insomniac traffic cop from the wrong side of the tracks. They fight crime!\n",
      "He's a sword-wielding white trash rock star who hangs with the wrong crowd. She's a transdimensional thirtysomething advertising executive with the power to bend men's minds. They fight crime!\n",
      "He's an otherworldly umbrella-wielding assassin on the edge. She's a scantily clad mutant angel with only herself to blame. They fight crime!\n",
      "He's a fiendish overambitious stage actor who must take medication to keep him sane. She's a chain-smoking antique-collecting detective who believes she is the reincarnation of an ancient Egyptian queen. They fight crime!\n",
      "He's a suave Republican grifter with a passion for fast cars. She's a beautiful African-American stripper looking for love in all the wrong places. They fight crime!\n",
      "He's a short-sighted pirate waffle chef with a secret. She's a virginal bisexual detective who hides her beauty behind a pair of thick-framed spectacles. They fight crime!\n",
      "He's an obese amnesiac househusband for the 21st century. She's a disco-crazy mutant archaeologist with a birthmark shaped like Liberty's torch. They fight crime!\n",
      "He's a fast talking alcoholic romance novelist with acid for blood. She's a foxy junkie mechanic with a flame-thrower. They fight crime!\n",
      "He's a shy small-town dog-catcher haunted by memories of 'Nam. She's a virginal extravagent pearl diver prone to fits of savage, blood-crazed rage. They fight crime!\n",
      "He's a jaded zombie waffle chef with a winning smile and a way with the ladies. She's an elegant mutant traffic cop with a flame-thrower. They fight crime!\n",
      "He's a lounge-singing amnesiac barbarian from a doomed world. She's a bloodthirsty red-headed politician fleeing from a Satanic cult. They fight crime!\n",
      "He's a globe-trotting guitar-strumming paramedic who dotes on his loving old ma. She's a bloodthirsty renegade archaeologist who can talk to animals. They fight crime!\n",
      "He's a one-legged Amish barbarian haunted by an iconic dead American confidante She's a supernatural renegade cab driver who hides her beauty behind a pair of thick-framed spectacles. They fight crime!\n",
      "He's a witless neurotic card sharp in drag. She's a tortured mute queen of the dead from Mars. They fight crime!\n"
     ]
    },
    {
     "name": "stdout",
     "output_type": "stream",
     "text": [
      "He's a fast talking alcoholic waffle chef with acid for blood. She's a pregnant streetsmart vampire from beyond the grave They fight crime!\n"
     ]
    }
   ],
   "source": [
    "if __name__ == \"__main__\":\n",
    "    main()"
   ]
  },
  {
   "cell_type": "code",
   "execution_count": null,
   "metadata": {},
   "outputs": [],
   "source": []
  }
 ],
 "metadata": {
  "kernelspec": {
   "display_name": "Python 3",
   "language": "python",
   "name": "python3"
  },
  "language_info": {
   "codemirror_mode": {
    "name": "ipython",
    "version": 3
   },
   "file_extension": ".py",
   "mimetype": "text/x-python",
   "name": "python",
   "nbconvert_exporter": "python",
   "pygments_lexer": "ipython3",
   "version": "3.7.3"
  }
 },
 "nbformat": 4,
 "nbformat_minor": 2
}
